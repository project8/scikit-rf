{
 "metadata": {
  "language_info": {
   "codemirror_mode": {
    "name": "ipython",
    "version": 3
   },
   "file_extension": ".py",
   "mimetype": "text/x-python",
   "name": "python",
   "nbconvert_exporter": "python",
   "pygments_lexer": "ipython3",
   "version": "3.8.5-final"
  },
  "orig_nbformat": 2,
  "kernelspec": {
   "name": "python_defaultSpec_1598592262135",
   "display_name": "Python 3.8.5 64-bit ('scikit_noisy': conda)"
  }
 },
 "nbformat": 4,
 "nbformat_minor": 2,
 "cells": [
  {
   "cell_type": "markdown",
   "metadata": {},
   "source": [
    "# A simple example of noise in pasive linear multiport networks\n",
    "\n",
    "This example will start by working through some of the examples presented in \"Noise in Lossless Microwave Multiports\" By Garcia-Garcia and end with a thermal example of a muliport multi-temperature system\n",
    "\n",
    "Then we will verify that the thermal noise temperature obeys the quantum limit mentioned in -\"Receiver Noise Temperature, the Quantum Noise Limit, and the Role of the Zero-Point Fluctuations\" by A.R. Kerr, M.J. Feldman and S.K.Pan"
   ]
  },
  {
   "cell_type": "code",
   "execution_count": null,
   "metadata": {},
   "outputs": [],
   "source": [
    "import skrf as rf\n",
    "import numpy as npy\n",
    "from skrf.constants import *\n",
    "%matplotlib inline\n",
    "from pylab import * \n",
    "rf.stylely()"
   ]
  },
  {
   "cell_type": "code",
   "execution_count": null,
   "metadata": {},
   "outputs": [],
   "source": [
    "#starting with a single attenuator\n",
    "\n",
    "frequency = rf.Frequency(start=1300, stop=1500, npoints=3, unit='MHz')\n",
    "ntwkAttn1_4000mK = rf.components.Attenuator(1, frequency=frequency, T0 = 290)\n",
    "\n",
    "\n"
   ]
  },
  {
   "cell_type": "code",
   "execution_count": null,
   "metadata": {
    "tags": []
   },
   "outputs": [],
   "source": [
    "\n",
    "\n",
    "#Test the Tnoise functions agreement with  -\"Receiver Noise Temperature, the Quantum Noise Limit, and the Role of the Zero-Point Fluctuations\" by A.R. Kerr, M.J. Feldman and S.K.Pan\n",
    "\n",
    "sys2 = rf.NetworkNoiseCov\n",
    "temps = npy.linspace(.00001,20,1001)\n",
    "Tn = sys2.Tnoise(230e9,temps)\n",
    "\n",
    "figure(0)\n",
    "ylim([0,20])\n",
    "xlim([0,20])\n",
    "ylabel('Noise Temp. [K]')\n",
    "xlabel('Physical Temp.[K]')\n",
    "title('Noise Temperature vs. Physical Temp (@230 GHz)')\n",
    "plot(temps, Tn, label=r'Tnoise  - Callen & Wlton')\n",
    "\n",
    "from skrf.plotting import func_on_all_figs as foaf\n",
    "\n",
    "foaf(tight_layout)\n",
    "foaf(legend)\n",
    "\n",
    "tight_layout()\n",
    "\n"
   ]
  },
  {
   "cell_type": "code",
   "execution_count": null,
   "metadata": {
    "tags": []
   },
   "outputs": [],
   "source": [
    "frequency = rf.Frequency(start=1000, stop=4000, npoints=501, unit='MHz')\n",
    "ntwkAttn1_4000mK = rf.components.Attenuator(1, frequency=frequency, T0 = 4)\n",
    "ntwkAttn2_1000mK = rf.components.Attenuator(3, frequency=frequency, T0 = 1)\n",
    "ntwkAttn_700mK = rf.components.Attenuator(10, frequency=frequency, T0 = .7)\n",
    "ntwkAttn_400mk = rf.components.Attenuator(3, frequency=frequency, T0=.4)\n",
    "ntwkAttn_100mk = rf.components.Attenuator(10, frequency=frequency, T0=.1)\n",
    "ntwkCirc1 = rf.components.Circulator(2, frequency = frequency, T0 = .090)\n",
    "ntwkCirc2 = rf.components.Circulator(0.5, frequency = frequency, T0 = .090)\n",
    "\n",
    "ntwkC = rf.cascade_2port(ntwkAttn1_4000mK, ntwkAttn2_1000mK)\n",
    "\n",
    "sys = rf.MultiNetworkSystem()\n",
    "\n",
    "# add all the networks to the system\n",
    "sys.add(ntwkAttn1_4000mK, r'attn_4K')\n",
    "sys.add(ntwkAttn2_1000mK, r'attn_1K')\n",
    "sys.add(ntwkAttn_700mK, r'attn_0p7K')\n",
    "sys.add(ntwkAttn_400mk, r'attn_0p4K')\n",
    "sys.add(ntwkAttn_100mk, r'attn_0p1K')\n",
    "sys.add(ntwkCirc1, r'inj_circ')\n",
    "sys.add(ntwkCirc1, r'jpa_circ')\n",
    "\n",
    "# make all the connections between the elements\n",
    "sys.connect(r'attn_4K', 2, r'attn_1K', 1)\n",
    "sys.connect(r'attn_1K', 2, r'attn_0p7K', 1)\n",
    "sys.connect(r'attn_0p7K', 2, r'attn_0p4K', 1)\n",
    "sys.connect(r'attn_0p4K', 2, r'attn_0p1K', 1)\n",
    "sys.connect(r'attn_0p1K', 2, r'inj_circ', 1)\n",
    "sys.connect(r'inj_circ', 3, r'jpa_circ', 1)\n",
    "\n",
    "\n",
    "# set the external port numbers, for this example the reduced network is a two-port network. The following is used to identify port 1 and port 2 of that resulting network.\n",
    "sys.external_port(r'attn_4K', 1, external_port_number=1)\n",
    "sys.external_port(r'inj_circ', 2, external_port_number=2)\n",
    "sys.external_port(r'jpa_circ', 2, external_port_number=3)\n",
    "sys.external_port(r'jpa_circ', 3, external_port_number=4)\n",
    "\n",
    "# the verify function make sure that all the ports have been asigned and that everything is consistant for the reduction algorithm\n",
    "(en, e) = sys.verify()\n",
    "print(e)\n",
    "for error in e:\n",
    "    print(error)\n",
    "print(\"Total number of Errors: \" + str(en))\n",
    "\n",
    "# calculate and return the resulting network\n",
    "ntwk = sys.reduce()\n",
    "# print(ntwk)\n",
    "# print(20*npy.log10(npy.abs(ntwk.s)))\n",
    "# print(ntwk.cs)"
   ]
  },
  {
   "cell_type": "code",
   "execution_count": null,
   "metadata": {
    "tags": [
     "outputPrepend"
    ]
   },
   "outputs": [],
   "source": [
    "A_temps = npy.identity(npy.shape(ntwk.s)[1])\n",
    "A_temps[0,0] = 1\n",
    "A_temps[1,1] = 1\n",
    "A_temps[2,2] = 1\n",
    "A_temps[3,3] = 1\n",
    "A_temps[0,0] = 0\n",
    "kb_SAS1 = K_BOLTZMANN*npy.matmul(ntwk.s,npy.matmul(A_temps,npy.conjugate(ntwk.s.swapaxes(1, 2))))\n",
    "# print('T1 sas: ', kb_SAS1 [:,0,0])\n",
    "T1 = ntwk.cs[:,0,0]/kb_SAS1[:,0,0]\n",
    "print('T1: ', T1)\n",
    "\n",
    "A_temps = npy.identity(npy.shape(ntwk.s)[1])\n",
    "A_temps[0,0] = 1\n",
    "A_temps[1,1] = 1\n",
    "A_temps[2,2] = 1\n",
    "A_temps[3,3] = 1\n",
    "A_temps[1,1] = 0\n",
    "kb_SAS1 = K_BOLTZMANN*npy.matmul(ntwk.s,npy.matmul(A_temps,npy.conjugate(ntwk.s.swapaxes(1, 2))))\n",
    "\n",
    "T2 = ntwk.cs[:,1,1]/kb_SAS1[:,1,1]\n",
    "# print('T2 sas: ', A_temps1)\n",
    "print('T2: ', T2)\n",
    "\n",
    "A_temps = npy.identity(npy.shape(ntwk.s)[1])\n",
    "A_temps[0,0] = 1\n",
    "A_temps[1,1] = 1\n",
    "A_temps[2,2] = 1\n",
    "A_temps[3,3] = 1\n",
    "A_temps[2,2] = 0\n",
    "kb_SAS1 = K_BOLTZMANN*npy.matmul(ntwk.s,npy.matmul(A_temps,npy.conjugate(ntwk.s.swapaxes(1, 2))))\n",
    "\n",
    "T3 = ntwk.cs[:,2,2]/kb_SAS1[:,2,2]\n",
    "print('T3: ', T3)\n",
    "\n",
    "A_temps = npy.identity(npy.shape(ntwk.s)[1])\n",
    "A_temps[0,0] = 1\n",
    "A_temps[1,1] = 1\n",
    "A_temps[2,2] = 1\n",
    "A_temps[3,3] = 1\n",
    "A_temps[3,3] = 0\n",
    "kb_SAS1 = K_BOLTZMANN*npy.matmul(ntwk.s,npy.matmul(A_temps,npy.conjugate(ntwk.s.swapaxes(1, 2))))\n",
    "\n",
    "T4 = ntwk.cs[:,3,3]/kb_SAS1[:,3,3]\n",
    "print('T4: ', T4)"
   ]
  },
  {
   "cell_type": "code",
   "execution_count": null,
   "metadata": {},
   "outputs": [],
   "source": []
  },
  {
   "cell_type": "code",
   "execution_count": null,
   "metadata": {},
   "outputs": [],
   "source": []
  }
 ]
}