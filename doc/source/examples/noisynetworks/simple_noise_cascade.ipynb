{
 "cells": [
  {
   "source": [
    "# Working with Noise Covariance Matrices \n",
    "\n",
    "This notebook demonstrates how to attach noise covariance matrices to the Network class objects and manipule those Networks with algebra.\n",
    "\n",
    "## Example 1: Cascading Two Resistive Two-Port Networks\n",
    "\n",
    "In this example a shunted resistor is cascaded with a series resistor"
   ],
   "cell_type": "markdown",
   "metadata": {}
  },
  {
   "cell_type": "code",
   "execution_count": null,
   "metadata": {
    "tags": []
   },
   "outputs": [],
   "source": [
    "import skrf as rf\n",
    "import numpy as npy\n",
    "from skrf.constants import *\n",
    "\n",
    "T0 = 290. # Both resistors are set at room temperature for now\n",
    "frequency = rf.Frequency(start=1000, stop=2000, npoints=10, unit='MHz')\n",
    "\n",
    "ovec = npy.ones(len(frequency))\n",
    "zvec = npy.zeros(len(frequency))\n",
    "rseries = 200*ovec # Series resistance\n",
    "rshunt = 500*ovec  # Shunt resistance\n",
    "\n",
    "### shunted resistor two port ###\n",
    "# This is the Z form of the network parameters for a shunted resistor, the rf.network_array(...) function places the array of vectors into a form the Network object will work with.\n",
    "r_shunt_z = rf.network_array([[rshunt, rshunt],\n",
    "                              [rshunt, rshunt]])\n",
    "\n",
    "# This is the Cz form of the covariance matrix for a shunted resistor\n",
    "r_shunt_z_cov = 4.*K_BOLTZMANN*T0*npy.real(r_shunt_z)\n",
    "\n",
    "# This is the Y form of the network parameters for a series resistor\n",
    "r_series_y = rf.network_array([[1/rseries,  -1/rseries],\n",
    "                               [-1/rseries,  1/rseries]])\n",
    "\n",
    "# This is the Cy form of the covariance matrix for a series resistor\n",
    "r_series_y_cov = 4.*K_BOLTZMANN*T0*npy.real(r_series_y)\n",
    "\n",
    "# The two functions from_y and from_z within the Network class are used to create instances of the object using the network representations above  \n",
    "ntwkA = rf.Network.from_z(r_shunt_z, frequency = frequency)\n",
    "ntwkB = rf.Network.from_y(r_series_y, frequency = frequency)\n",
    "\n",
    "# NetworkNoiseCov objects contain the covariance matricies that will be associated with the Network objects above. \n",
    "nc_rseries = rf.NetworkNoiseCov(r_series_y_cov, form='y')\n",
    "nc_rshunt = rf.NetworkNoiseCov(r_shunt_z_cov, form='z')\n",
    "\n",
    "# You attach a NetworkNoiseCov object to the network with the noise_source(...) function\n",
    "ntwkA.noise_source(nc_rshunt)\n",
    "ntwkB.noise_source(nc_rseries)\n",
    "\n",
    "# Here we assume the two networks are two-port networks and cascade the two together to make a combined two-port network called ntwkC\n",
    "ntwkC = rf.cascade_2port(ntwkA, ntwkB)\n",
    "\n",
    "# The noise paramters of the combined network can then be calculated via a number of properties\n",
    "ntwkC.nfmin        # Minimum noise factor (linear)\n",
    "ntwkC.y_opt        # Optimal source admittance\n",
    "ntwkC.z_opt        # Optimal source impedance\n",
    "ntwkC.rn           # Scaling factor\n",
    "ntwkC.nf(50)       # Noise factor for a given source impedance\n"
   ]
  },
  {
   "cell_type": "code",
   "execution_count": null,
   "metadata": {},
   "outputs": [],
   "source": [
    "\n",
    "# The above example can be made a little cleaner when we know the networks are passive. Here again we create the two Networks\n",
    "r_shunt_z = rf.network_array([[rshunt, rshunt],\n",
    "                              [rshunt, rshunt]])\n",
    "\n",
    "r_series_y = rf.network_array([[1/rseries,  -1/rseries],\n",
    "                               [-1/rseries,  1/rseries]])\n",
    "\n",
    "ntwkA = rf.Network.from_z(r_shunt_z, frequency = frequency)\n",
    "ntwkB = rf.Network.from_y(r_series_y, frequency = frequency)\n",
    "\n",
    "# This time however, we will simply tell the networks that they are passive components. They will set the NetworkNoiseCov themselves using k*T0*(1-SS^*)/2\n",
    "ntwkA.noise_source('passive')\n",
    "\n",
    "# You can change the temperature of the Network using this function as well (the temperature defaults to T=290 [K])\n",
    "ntwkB.noise_source('passive', T0=290)\n",
    "\n",
    "# Cascade the two networks\n",
    "ntwkC = rf.cascade_2port(ntwkA, ntwkB)\n",
    "\n",
    "# The noise paramters of the combined network can then be calculated via a number of properties\n",
    "ntwkC.nfmin        # Minimum noise factor (linear)\n",
    "ntwkC.y_opt        # Optimal source admittance\n",
    "ntwkC.z_opt        # Optimal source impedance\n",
    "ntwkC.rn           # Scaling factor\n",
    "ntwkC.nf(50)       # Noise factor for a given source impedance\n",
    "\n"
   ]
  },
  {
   "cell_type": "markdown",
   "metadata": {},
   "source": [
    "## Example 2: Cascading Two Matched Attenuators\n",
    "\n",
    "In this example two attenuators are cascaded to test the Friis transmission formula for Noise Figure"
   ]
  },
  {
   "cell_type": "code",
   "execution_count": null,
   "metadata": {
    "tags": []
   },
   "outputs": [],
   "source": [
    "import skrf as rf\n",
    "import numpy as npy\n",
    "from skrf.constants import *\n",
    "\n",
    "# Testing cascade\n",
    "T0 = 290\n",
    "atten1 = 10**(-1/20)  # Attenuation of first attenuator\n",
    "atten2 = 10**(-4/20)  # Attenuation of second attenuator\n",
    "\n",
    "frequency = rf.Frequency(start=1000, stop=2000, npoints=10, unit='MHz')\n",
    "\n",
    "ovec = npy.ones(len(frequency))\n",
    "zvec = npy.zeros(len(frequency))\n",
    "\n",
    "attn1_vec = rf.network_array([[zvec,    atten1*ovec],\n",
    "                              [atten1*ovec,   zvec]])\n",
    "\n",
    "attn2_vec = rf.network_array([[zvec,    atten2*ovec],\n",
    "                              [atten2*ovec,   zvec]])\n",
    "\n",
    "ntwkA = rf.Network(s=attn1_vec, frequency=frequency)\n",
    "ntwkB = rf.Network(s=attn2_vec, frequency=frequency)\n",
    "\n",
    "# Since both networks are passive, we do as we did above \n",
    "ntwkA.noise_source('passive')\n",
    "ntwkB.noise_source('passive')\n",
    "\n",
    "ntwkC = rf.cascade_2port(ntwkA, ntwkB)\n",
    "a = ntwkC.nf_db(50)\n",
    "print(a)\n",
    "# The result for NF is simply the sum of the two attenuators\n",
    "\n"
   ]
  },
  {
   "cell_type": "code",
   "execution_count": null,
   "metadata": {
    "tags": []
   },
   "outputs": [],
   "source": [
    "# Annnnd even easier, but less clear\n",
    "ntwkAttn1 = rf.components.Attenuator(5, frequency=frequency, T0 = 290)\n",
    "ntwkAttn2 = rf.components.Attenuator(7, frequency=frequency, T0 = 290)\n",
    "ntwkC = rf.cascade_2port(ntwkAttn1, ntwkAttn2)\n",
    "a = ntwkC.nf_db(50)\n",
    "print(a)\n",
    "\n",
    "# The components package contains common noisy elements\n"
   ]
  }
 ],
 "metadata": {
  "kernelspec": {
   "display_name": "Python 3.7.7 64-bit ('scikit-rf_v1': conda)",
   "language": "python",
   "name": "python37764bitscikitrfv1condaade76b4dc6324ad28a7f171ba9207dcd"
  },
  "language_info": {
   "codemirror_mode": {
    "name": "ipython",
    "version": 3
   },
   "file_extension": ".py",
   "mimetype": "text/x-python",
   "name": "python",
   "nbconvert_exporter": "python",
   "pygments_lexer": "ipython3",
   "version": "3.7.7-final"
  }
 },
 "nbformat": 4,
 "nbformat_minor": 4
}