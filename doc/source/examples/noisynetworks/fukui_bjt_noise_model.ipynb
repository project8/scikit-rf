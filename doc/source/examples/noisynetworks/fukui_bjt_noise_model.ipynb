{
 "metadata": {
  "language_info": {
   "codemirror_mode": {
    "name": "ipython",
    "version": 3
   },
   "file_extension": ".py",
   "mimetype": "text/x-python",
   "name": "python",
   "nbconvert_exporter": "python",
   "pygments_lexer": "ipython3",
   "version": "3.8.5-final"
  },
  "orig_nbformat": 2,
  "kernelspec": {
   "name": "python38564bitskrfconda570c29fa02a4425eb09019951c36043d",
   "display_name": "Python 3.8.5 64-bit ('skrf': conda)"
  }
 },
 "nbformat": 4,
 "nbformat_minor": 2,
 "cells": [
  {
   "source": [
    "\n",
    "# scikit-rf BJT Noise Model Compared to BJT Model in Fukui's Paper\n",
    "\n",
    "In this example a BJT modeled with shot noise and thermal noise is simulated using NetworkNoiseCov objects attached to Network objects. The results are compared to analytic results from Fukui's paper [1].  \n"
   ],
   "cell_type": "markdown",
   "metadata": {
    "tags": []
   }
  },
  {
   "cell_type": "code",
   "execution_count": null,
   "metadata": {
    "tags": []
   },
   "outputs": [],
   "source": [
    "import fukui_functions as fukui\n",
    "import numpy as npy\n",
    "import skrf as rf\n",
    "from skrf.constants import *\n",
    "%matplotlib inline\n",
    "from pylab import * \n",
    "rf.stylely()\n",
    "\n",
    "Ic_ma = 20 #[mA]\n",
    "beta0 = 100\n",
    "rbb = 5 #[Ohms] Base Spreading Resistance\n",
    "Cpi = 4e-12 #[F]\n",
    "Cu = 1e-12 #[F] Feedback capacitance (not modeled by Fukui)\n",
    "T0 = 290\n",
    "k = K_BOLTZMANN\n",
    "z0 = 50\n",
    "\n",
    "frequency = rf.Frequency(start=1e6, stop=10e9, npoints=200, unit='Hz', sweep_type='log')\n",
    "\n",
    "# dependant perameters\n",
    "gm = Ic_ma/26.\n",
    "re = 1/gm\n",
    "rpi = beta0*re\n",
    "gpi = 1/rpi\n",
    "wT = 1/(Cpi*re + Cu*re)\n",
    "scpi = 1j*frequency.w*Cpi\n",
    "scu = 1j*frequency.w*Cu\n",
    "sug_d = scu - gm"
   ]
  },
  {
   "cell_type": "code",
   "execution_count": null,
   "metadata": {
    "tags": []
   },
   "outputs": [],
   "source": [
    "ovec = npy.ones(len(frequency))\n",
    "zvec = npy.zeros(len(frequency))\n",
    "\n",
    "# Series resistance containing thermal noise within the BJT\n",
    "rbb_series_y = rf.network_array([[1/rbb*ovec,  -1/rbb*ovec],\n",
    "                                 [-1/rbb*ovec,  1/rbb*ovec]])\n",
    "\n",
    "# The next few networks are combined to create the BJT. \n",
    "gpi_shunt_a = rf.network_array([[ovec,     zvec],\n",
    "                                [gpi*ovec, ovec]])\n",
    "\n",
    "cpi_shunt_a = rf.network_array([[ovec,     zvec],\n",
    "                                [scpi*ovec, ovec]])\n",
    "\n",
    "cug_shfb_a = rf.network_array([[scu/sug_d,     ovec/sug_d],\n",
    "                               [scu*gm/sug_d,   scu/sug_d]])\n",
    "\n",
    "# This covariance matrix that accounts for the shot noise within the BJT\n",
    "cov_bjt_y = 2*k*T0*gm*rf.network_array([[1/beta0*ovec,  zvec],\n",
    "                                       [zvec,          ovec]])\n",
    "\n",
    "\n",
    "a_bjt = npy.matmul(gpi_shunt_a, npy.matmul(cpi_shunt_a, cug_shfb_a))\n",
    "\n",
    "# Create the series resisance network with attached covariance matrix representing thermal noise\n",
    "nwrkRbb = rf.Network.from_y(rbb_series_y, frequency=frequency)\n",
    "nwrkRbb.noise_source('passive')\n",
    "\n",
    "# Create the BJT model and attach the covariance matrix representing shot noise\n",
    "nwrkBjt = rf.Network.from_a(a_bjt, frequency=frequency)\n",
    "shot_noise_cov_y = rf.NetworkNoiseCov(cov_bjt_y, form='y')\n",
    "nwrkBjt.noise_source(shot_noise_cov_y)\n",
    "\n",
    "# Combine the two networks together and calculate noise figure parameters\n",
    "ntwkT = rf.cascade_2port(nwrkRbb, nwrkBjt)\n",
    "model_nfmin_db = ntwkT.nfmin_db\n",
    "model_nf_db = ntwkT.nf_db(z0)\n"
   ]
  },
  {
   "cell_type": "code",
   "execution_count": null,
   "metadata": {},
   "outputs": [],
   "source": [
    "# Calculate results for No-Parasitic case in Fukui's paper\n",
    "fukui_nfmin = fukui.nfmin(gm, beta0, rbb, frequency.w, wT)\n",
    "fukui_nf = fukui.nf(z0, gm, beta0, rbb, frequency.w, wT)\n"
   ]
  },
  {
   "cell_type": "code",
   "execution_count": null,
   "metadata": {},
   "outputs": [],
   "source": [
    "# Plot the results, the dashed lines represent the combined network from above and the solid lines are Fukui's results\n",
    "figure(0)\n",
    "ylabel('NF')\n",
    "title('Noise Figure')\n",
    "semilogx(frequency.f_scaled, rf.mf.mag_2_db10(fukui_nfmin), label=r'Fukui min NF')\n",
    "semilogx(frequency.f_scaled, rf.mf.mag_2_db10(fukui_nf), label=r'Fukui NF')\n",
    "semilogx(frequency.f_scaled, model_nfmin_db,'--' , label=r'Model min NF')\n",
    "semilogx(frequency.f_scaled, model_nf_db,'--', label=r'Model NF')\n",
    "\n",
    "ylim(1,2)\n",
    "\n",
    "from skrf.plotting import func_on_all_figs as foaf\n",
    "\n",
    "foaf(frequency.labelXAxis)\n",
    "foaf(tight_layout)\n",
    "foaf(legend)\n",
    "#foaf(loglog)\n",
    "\n",
    "tight_layout()"
   ]
  },
  {
   "source": [
    "## References\n",
    "- [1] H Fukui. - The noise performance of microwave transistors - IEEE Transactions on Electron Devices, (3):329-341, 1966"
   ],
   "cell_type": "markdown",
   "metadata": {}
  }
 ]
}