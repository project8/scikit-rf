{
 "cells": [
  {
   "cell_type": "markdown",
   "metadata": {},
   "source": [
    "# Calculating Noise Parameters from Mulitiple Connected Noisy Networks\n",
    "\n",
    "This is a simple example showing how a MultiNoisyNetworkSystem object correctly calculates noise parameters"
   ]
  },
  {
   "cell_type": "code",
   "execution_count": 1,
   "metadata": {
    "tags": []
   },
   "outputs": [
    {
     "name": "stdout",
     "output_type": "stream",
     "text": [
      "No display found. Using non-interactive Agg backend.\n",
      "Total number of Errors: 0\n",
      "2-Port NoisyNetwork: '',  1000.0-2000.0 MHz, 4 pts, z0=[50.+0.j 50.+0.j]\n",
      "[[[0.        +0.j 0.25118864+0.j]\n",
      "  [0.25118864+0.j 0.        +0.j]]\n",
      "\n",
      " [[0.        +0.j 0.25118864+0.j]\n",
      "  [0.25118864+0.j 0.        +0.j]]\n",
      "\n",
      " [[0.        +0.j 0.25118864+0.j]\n",
      "  [0.25118864+0.j 0.        +0.j]]\n",
      "\n",
      " [[0.        +0.j 0.25118864+0.j]\n",
      "  [0.25118864+0.j 0.        +0.j]]]\n",
      "[[[3.75125292e-21+0.j 0.00000000e+00+0.j]\n",
      "  [0.00000000e+00+0.j 3.75125292e-21+0.j]]\n",
      "\n",
      " [[3.75125293e-21+0.j 0.00000000e+00+0.j]\n",
      "  [0.00000000e+00+0.j 3.75125293e-21+0.j]]\n",
      "\n",
      " [[3.75125294e-21+0.j 0.00000000e+00+0.j]\n",
      "  [0.00000000e+00+0.j 3.75125294e-21+0.j]]\n",
      "\n",
      " [[3.75125295e-21+0.j 0.00000000e+00+0.j]\n",
      "  [0.00000000e+00+0.j 3.75125295e-21+0.j]]]\n",
      "[12.00000001 12.00000002 12.00000003 12.00000004]\n"
     ]
    }
   ],
   "source": [
    "import skrf as rf\n",
    "import numpy as npy\n",
    "from skrf.constants import *\n",
    "\n",
    "frequency = rf.Frequency(start=1000, stop=2000, npoints=4, unit='MHz')\n",
    "ntwkAttn1 = rf.noisyComponents.Attenuator(5, frequency=frequency)\n",
    "ntwkAttn2 = rf.noisyComponents.Attenuator(7, frequency=frequency)\n",
    "ntwkC = rf.cascade_2port(ntwkAttn1, ntwkAttn2)\n",
    "\n",
    "sys = rf.MultiNoisyNetworkSystem()\n",
    "\n",
    "# add all the networks to the system\n",
    "sys.add(ntwkAttn1, 'attn1')\n",
    "sys.add(ntwkAttn2, 'attn2')\n",
    "\n",
    "# make all the connections between the elements\n",
    "sys.connect('attn1', 2, 'attn2', 1)\n",
    "\n",
    "# set the external port numbers, for this example the reduced network is a two-port network. The following is used to identify port 1 and port 2 of that resulting network.\n",
    "sys.external_port('attn1', 1, external_port_number=1)\n",
    "sys.external_port('attn2', 2, external_port_number=2)\n",
    "\n",
    "# the verify function make sure that all the ports have been asigned and that everything is consistant for the reduction algorithm\n",
    "(en, e) = sys.verify()\n",
    "for error in e:\n",
    "    print(error)\n",
    "print(\"Total number of Errors: \" + str(en))\n",
    "\n",
    "# calculate and return the resulting network\n",
    "ntwk = sys.reduce()\n",
    "print(ntwk)\n",
    "print(ntwk.s)\n",
    "print(ntwk.cs)\n",
    "\n",
    "A = npy.identity(npy.shape(ntwk.s)[1])\n",
    "A[0,0] = 0\n",
    "kb_t_sas = K_BOLTZMANN*290*npy.matmul(ntwk.s,npy.matmul(A,npy.conjugate(ntwk.s.swapaxes(2,1))))\n",
    "\n",
    "F= 1 + ntwk.cs[:,0,0]/(kb_t_sas[:,0,0])\n",
    "\n",
    "print(10*npy.log10(npy.abs(F)))"
   ]
  },
  {
   "cell_type": "code",
   "execution_count": null,
   "metadata": {},
   "outputs": [],
   "source": []
  }
 ],
 "metadata": {
  "kernelspec": {
   "display_name": "Python 3.7.7 64-bit ('scikit-rf_v1': conda)",
   "metadata": {
    "interpreter": {
     "hash": "1b6f662704cfc7d4382fdb869a69dfc4ac6ab24184d00b68a2757b3e09f543a7"
    }
   },
   "name": "python3"
  },
  "language_info": {
   "codemirror_mode": {
    "name": "ipython",
    "version": 3
   },
   "file_extension": ".py",
   "mimetype": "text/x-python",
   "name": "python",
   "nbconvert_exporter": "python",
   "pygments_lexer": "ipython3",
   "version": "3.9.18"
  },
  "orig_nbformat": 2
 },
 "nbformat": 4,
 "nbformat_minor": 2
}
